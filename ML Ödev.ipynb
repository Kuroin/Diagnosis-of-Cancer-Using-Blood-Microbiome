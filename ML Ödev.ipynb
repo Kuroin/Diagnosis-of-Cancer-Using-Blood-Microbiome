{
 "cells": [
  {
   "cell_type": "code",
   "execution_count": 1,
   "id": "b90b88b5",
   "metadata": {},
   "outputs": [
    {
     "name": "stdout",
     "output_type": "stream",
     "text": [
      "Requirement already satisfied: xgboost in c:\\users\\atakan\\anaconda3\\lib\\site-packages (1.7.5)\n",
      "Requirement already satisfied: numpy in c:\\users\\atakan\\anaconda3\\lib\\site-packages (from xgboost) (1.21.5)\n",
      "Requirement already satisfied: scipy in c:\\users\\atakan\\anaconda3\\lib\\site-packages (from xgboost) (1.9.1)\n",
      "Requirement already satisfied: lightgbm in c:\\users\\atakan\\anaconda3\\lib\\site-packages (3.3.5)\n",
      "Requirement already satisfied: scipy in c:\\users\\atakan\\anaconda3\\lib\\site-packages (from lightgbm) (1.9.1)\n",
      "Requirement already satisfied: scikit-learn!=0.22.0 in c:\\users\\atakan\\anaconda3\\lib\\site-packages (from lightgbm) (1.0.2)\n",
      "Requirement already satisfied: wheel in c:\\users\\atakan\\anaconda3\\lib\\site-packages (from lightgbm) (0.37.1)\n",
      "Requirement already satisfied: numpy in c:\\users\\atakan\\anaconda3\\lib\\site-packages (from lightgbm) (1.21.5)\n",
      "Requirement already satisfied: joblib>=0.11 in c:\\users\\atakan\\anaconda3\\lib\\site-packages (from scikit-learn!=0.22.0->lightgbm) (1.1.0)\n",
      "Requirement already satisfied: threadpoolctl>=2.0.0 in c:\\users\\atakan\\anaconda3\\lib\\site-packages (from scikit-learn!=0.22.0->lightgbm) (2.2.0)\n",
      "Requirement already satisfied: catboost in c:\\users\\atakan\\anaconda3\\lib\\site-packages (1.2)\n",
      "Requirement already satisfied: numpy>=1.16.0 in c:\\users\\atakan\\anaconda3\\lib\\site-packages (from catboost) (1.21.5)\n",
      "Requirement already satisfied: six in c:\\users\\atakan\\anaconda3\\lib\\site-packages (from catboost) (1.16.0)\n",
      "Requirement already satisfied: plotly in c:\\users\\atakan\\anaconda3\\lib\\site-packages (from catboost) (5.9.0)\n",
      "Requirement already satisfied: matplotlib in c:\\users\\atakan\\anaconda3\\lib\\site-packages (from catboost) (3.5.2)\n",
      "Requirement already satisfied: graphviz in c:\\users\\atakan\\anaconda3\\lib\\site-packages (from catboost) (0.20.1)\n",
      "Requirement already satisfied: pandas>=0.24 in c:\\users\\atakan\\anaconda3\\lib\\site-packages (from catboost) (1.4.4)\n",
      "Requirement already satisfied: scipy in c:\\users\\atakan\\anaconda3\\lib\\site-packages (from catboost) (1.9.1)\n",
      "Requirement already satisfied: python-dateutil>=2.8.1 in c:\\users\\atakan\\anaconda3\\lib\\site-packages (from pandas>=0.24->catboost) (2.8.2)\n",
      "Requirement already satisfied: pytz>=2020.1 in c:\\users\\atakan\\anaconda3\\lib\\site-packages (from pandas>=0.24->catboost) (2022.1)\n",
      "Requirement already satisfied: pillow>=6.2.0 in c:\\users\\atakan\\anaconda3\\lib\\site-packages (from matplotlib->catboost) (9.2.0)\n",
      "Requirement already satisfied: fonttools>=4.22.0 in c:\\users\\atakan\\anaconda3\\lib\\site-packages (from matplotlib->catboost) (4.25.0)\n",
      "Requirement already satisfied: cycler>=0.10 in c:\\users\\atakan\\anaconda3\\lib\\site-packages (from matplotlib->catboost) (0.11.0)\n",
      "Requirement already satisfied: pyparsing>=2.2.1 in c:\\users\\atakan\\anaconda3\\lib\\site-packages (from matplotlib->catboost) (3.0.9)\n",
      "Requirement already satisfied: kiwisolver>=1.0.1 in c:\\users\\atakan\\anaconda3\\lib\\site-packages (from matplotlib->catboost) (1.4.2)\n",
      "Requirement already satisfied: packaging>=20.0 in c:\\users\\atakan\\anaconda3\\lib\\site-packages (from matplotlib->catboost) (21.3)\n",
      "Requirement already satisfied: tenacity>=6.2.0 in c:\\users\\atakan\\anaconda3\\lib\\site-packages (from plotly->catboost) (8.0.1)\n"
     ]
    }
   ],
   "source": [
    "!pip install xgboost\n",
    "!pip install lightgbm\n",
    "!pip install catboost"
   ]
  },
  {
   "cell_type": "code",
   "execution_count": 2,
   "id": "d1559afd",
   "metadata": {},
   "outputs": [],
   "source": [
    "import pandas as pd\n",
    "import numpy as np\n",
    "from sklearn.ensemble import RandomForestClassifier\n",
    "from xgboost import XGBClassifier\n",
    "import lightgbm as lgb\n",
    "from catboost import CatBoostClassifier\n",
    "from sklearn.model_selection import train_test_split\n",
    "from sklearn.preprocessing import LabelEncoder\n",
    "from sklearn.metrics import accuracy_score, confusion_matrix, precision_score, recall_score, ConfusionMatrixDisplay"
   ]
  },
  {
   "cell_type": "code",
   "execution_count": 3,
   "id": "940524fa",
   "metadata": {},
   "outputs": [],
   "source": [
    "rfc = RandomForestClassifier(n_estimators=100,max_depth=None)\n",
    "xgc = XGBClassifier(n_estimators=100,learning_rate=0.1,max_depth=6)\n",
    "cbc = CatBoostClassifier(iterations=30,\n",
    "                           learning_rate=0.1,\n",
    "                           depth=6,\n",
    "                           l2_leaf_reg=3,\n",
    "                           loss_function='MultiClass',\n",
    "                           eval_metric='Accuracy')\n",
    "param = {'num_leaves': 31, 'objective': 'multiclass','num_class':4}\n",
    "param['metric'] = 'auc_mu'\n",
    "num_round=10\n",
    "\n",
    "\n",
    "le = LabelEncoder()"
   ]
  },
  {
   "cell_type": "code",
   "execution_count": 4,
   "id": "6dc3b68e",
   "metadata": {},
   "outputs": [],
   "source": [
    "X = pd.read_csv(\"data.csv\",index_col=0)\n",
    "Y = pd.read_csv(\"labels.csv\",index_col=0)\n",
    "Y['encoded_labels']=le.fit_transform(Y['disease_type'])\n",
    "\n",
    "normalized_X = X.div(X.sum(axis=1), axis=0)\n",
    "\n",
    "X_train,X_test,Y_train,Y_test = train_test_split(X,Y,test_size=0.3,random_state=42)"
   ]
  },
  {
   "cell_type": "code",
   "execution_count": 5,
   "id": "277635fb",
   "metadata": {},
   "outputs": [
    {
     "data": {
      "text/plain": [
       "RandomForestClassifier()"
      ]
     },
     "execution_count": 5,
     "metadata": {},
     "output_type": "execute_result"
    }
   ],
   "source": [
    "rfc.fit(X_train,Y_train['disease_type'])"
   ]
  },
  {
   "cell_type": "code",
   "execution_count": 6,
   "id": "8f03a95d",
   "metadata": {},
   "outputs": [],
   "source": [
    "rfc_y_pred=rfc.predict(X_test)"
   ]
  },
  {
   "cell_type": "code",
   "execution_count": 7,
   "id": "69b6e056",
   "metadata": {},
   "outputs": [
    {
     "data": {
      "text/plain": [
       "0.9813084112149533"
      ]
     },
     "execution_count": 7,
     "metadata": {},
     "output_type": "execute_result"
    }
   ],
   "source": [
    "acc=accuracy_score(Y_test['disease_type'],rfc_y_pred)\n",
    "acc"
   ]
  },
  {
   "cell_type": "code",
   "execution_count": 8,
   "id": "3808efe8",
   "metadata": {},
   "outputs": [
    {
     "data": {
      "text/plain": [
       "XGBClassifier(base_score=None, booster=None, callbacks=None,\n",
       "              colsample_bylevel=None, colsample_bynode=None,\n",
       "              colsample_bytree=None, early_stopping_rounds=None,\n",
       "              enable_categorical=False, eval_metric=None, feature_types=None,\n",
       "              gamma=None, gpu_id=None, grow_policy=None, importance_type=None,\n",
       "              interaction_constraints=None, learning_rate=0.1, max_bin=None,\n",
       "              max_cat_threshold=None, max_cat_to_onehot=None,\n",
       "              max_delta_step=None, max_depth=6, max_leaves=None,\n",
       "              min_child_weight=None, missing=nan, monotone_constraints=None,\n",
       "              n_estimators=100, n_jobs=None, num_parallel_tree=None,\n",
       "              objective='multi:softprob', predictor=None, ...)"
      ]
     },
     "execution_count": 8,
     "metadata": {},
     "output_type": "execute_result"
    }
   ],
   "source": [
    "xgc.fit(X_train,Y_train['encoded_labels'])"
   ]
  },
  {
   "cell_type": "code",
   "execution_count": 9,
   "id": "f7c7e61b",
   "metadata": {},
   "outputs": [],
   "source": [
    "xgc_y_pred=xgc.predict(X_test)"
   ]
  },
  {
   "cell_type": "code",
   "execution_count": 10,
   "id": "af508a8c",
   "metadata": {},
   "outputs": [
    {
     "data": {
      "text/plain": [
       "0.9906542056074766"
      ]
     },
     "execution_count": 10,
     "metadata": {},
     "output_type": "execute_result"
    }
   ],
   "source": [
    "acc=accuracy_score(Y_test['encoded_labels'],xgc_y_pred)\n",
    "acc"
   ]
  },
  {
   "cell_type": "code",
   "execution_count": 11,
   "id": "8497cef5",
   "metadata": {},
   "outputs": [
    {
     "name": "stdout",
     "output_type": "stream",
     "text": [
      "0:\tlearn: 0.7540323\ttotal: 301ms\tremaining: 8.73s\n",
      "1:\tlearn: 0.8185484\ttotal: 419ms\tremaining: 5.86s\n",
      "2:\tlearn: 0.8145161\ttotal: 554ms\tremaining: 4.98s\n",
      "3:\tlearn: 0.8669355\ttotal: 676ms\tremaining: 4.39s\n",
      "4:\tlearn: 0.8790323\ttotal: 852ms\tremaining: 4.26s\n",
      "5:\tlearn: 0.9032258\ttotal: 976ms\tremaining: 3.9s\n",
      "6:\tlearn: 0.9274194\ttotal: 1.1s\tremaining: 3.62s\n",
      "7:\tlearn: 0.9314516\ttotal: 1.21s\tremaining: 3.33s\n",
      "8:\tlearn: 0.9274194\ttotal: 1.33s\tremaining: 3.1s\n",
      "9:\tlearn: 0.9354839\ttotal: 1.45s\tremaining: 2.9s\n",
      "10:\tlearn: 0.9596774\ttotal: 1.58s\tremaining: 2.72s\n",
      "11:\tlearn: 0.9758065\ttotal: 1.72s\tremaining: 2.58s\n",
      "12:\tlearn: 0.9758065\ttotal: 1.85s\tremaining: 2.42s\n",
      "13:\tlearn: 0.9758065\ttotal: 1.97s\tremaining: 2.25s\n",
      "14:\tlearn: 0.9758065\ttotal: 2.09s\tremaining: 2.09s\n",
      "15:\tlearn: 0.9677419\ttotal: 2.2s\tremaining: 1.93s\n",
      "16:\tlearn: 0.9717742\ttotal: 2.33s\tremaining: 1.78s\n",
      "17:\tlearn: 0.9758065\ttotal: 2.45s\tremaining: 1.63s\n",
      "18:\tlearn: 0.9758065\ttotal: 2.56s\tremaining: 1.48s\n",
      "19:\tlearn: 0.9838710\ttotal: 2.67s\tremaining: 1.34s\n",
      "20:\tlearn: 0.9838710\ttotal: 2.79s\tremaining: 1.19s\n",
      "21:\tlearn: 0.9838710\ttotal: 2.95s\tremaining: 1.07s\n",
      "22:\tlearn: 0.9879032\ttotal: 3.08s\tremaining: 938ms\n",
      "23:\tlearn: 0.9879032\ttotal: 3.19s\tremaining: 799ms\n",
      "24:\tlearn: 0.9879032\ttotal: 3.3s\tremaining: 659ms\n",
      "25:\tlearn: 0.9959677\ttotal: 3.4s\tremaining: 522ms\n",
      "26:\tlearn: 0.9959677\ttotal: 3.49s\tremaining: 388ms\n",
      "27:\tlearn: 0.9959677\ttotal: 3.63s\tremaining: 259ms\n",
      "28:\tlearn: 0.9919355\ttotal: 3.75s\tremaining: 129ms\n",
      "29:\tlearn: 0.9959677\ttotal: 3.87s\tremaining: 0us\n"
     ]
    },
    {
     "data": {
      "text/plain": [
       "<catboost.core.CatBoostClassifier at 0x230432d47f0>"
      ]
     },
     "execution_count": 11,
     "metadata": {},
     "output_type": "execute_result"
    }
   ],
   "source": [
    "cbc.fit(X_train,Y_train['encoded_labels'])"
   ]
  },
  {
   "cell_type": "code",
   "execution_count": 12,
   "id": "4960ded3",
   "metadata": {},
   "outputs": [],
   "source": [
    "cbc_y_pred = cbc.predict(X_test)\n",
    "preds_proba = cbc.predict_proba(X_test)"
   ]
  },
  {
   "cell_type": "code",
   "execution_count": 13,
   "id": "c47a2fac",
   "metadata": {},
   "outputs": [
    {
     "name": "stdout",
     "output_type": "stream",
     "text": [
      "[LightGBM] [Warning] Auto-choosing col-wise multi-threading, the overhead of testing was 0.013979 seconds.\n",
      "You can set `force_col_wise=true` to remove the overhead.\n",
      "[LightGBM] [Info] Total Bins 41862\n",
      "[LightGBM] [Info] Number of data points in the train set: 248, number of used features: 1492\n",
      "[LightGBM] [Info] Start training from score -1.156720\n",
      "[LightGBM] [Info] Start training from score -1.209364\n",
      "[LightGBM] [Info] Start training from score -3.028522\n",
      "[LightGBM] [Info] Start training from score -1.082612\n",
      "[LightGBM] [Warning] No further splits with positive gain, best gain: -inf\n",
      "[LightGBM] [Warning] No further splits with positive gain, best gain: -inf\n",
      "[LightGBM] [Warning] No further splits with positive gain, best gain: -inf\n",
      "[LightGBM] [Warning] No further splits with positive gain, best gain: -inf\n",
      "[LightGBM] [Warning] No further splits with positive gain, best gain: -inf\n",
      "[LightGBM] [Warning] No further splits with positive gain, best gain: -inf\n",
      "[LightGBM] [Warning] No further splits with positive gain, best gain: -inf\n",
      "[LightGBM] [Warning] No further splits with positive gain, best gain: -inf\n",
      "[LightGBM] [Warning] No further splits with positive gain, best gain: -inf\n",
      "[LightGBM] [Warning] No further splits with positive gain, best gain: -inf\n",
      "[LightGBM] [Warning] No further splits with positive gain, best gain: -inf\n",
      "[LightGBM] [Warning] No further splits with positive gain, best gain: -inf\n",
      "[LightGBM] [Warning] No further splits with positive gain, best gain: -inf\n",
      "[LightGBM] [Warning] No further splits with positive gain, best gain: -inf\n",
      "[LightGBM] [Warning] No further splits with positive gain, best gain: -inf\n",
      "[LightGBM] [Warning] No further splits with positive gain, best gain: -inf\n",
      "[LightGBM] [Warning] No further splits with positive gain, best gain: -inf\n",
      "[LightGBM] [Warning] No further splits with positive gain, best gain: -inf\n",
      "[LightGBM] [Warning] No further splits with positive gain, best gain: -inf\n",
      "[LightGBM] [Warning] No further splits with positive gain, best gain: -inf\n",
      "[LightGBM] [Warning] No further splits with positive gain, best gain: -inf\n",
      "[LightGBM] [Warning] No further splits with positive gain, best gain: -inf\n",
      "[LightGBM] [Warning] No further splits with positive gain, best gain: -inf\n",
      "[LightGBM] [Warning] No further splits with positive gain, best gain: -inf\n",
      "[LightGBM] [Warning] No further splits with positive gain, best gain: -inf\n",
      "[LightGBM] [Warning] No further splits with positive gain, best gain: -inf\n",
      "[LightGBM] [Warning] No further splits with positive gain, best gain: -inf\n",
      "[LightGBM] [Warning] No further splits with positive gain, best gain: -inf\n",
      "[LightGBM] [Warning] No further splits with positive gain, best gain: -inf\n",
      "[LightGBM] [Warning] No further splits with positive gain, best gain: -inf\n",
      "[LightGBM] [Warning] No further splits with positive gain, best gain: -inf\n",
      "[LightGBM] [Warning] No further splits with positive gain, best gain: -inf\n",
      "[LightGBM] [Warning] No further splits with positive gain, best gain: -inf\n",
      "[LightGBM] [Warning] No further splits with positive gain, best gain: -inf\n",
      "[LightGBM] [Warning] No further splits with positive gain, best gain: -inf\n",
      "[LightGBM] [Warning] No further splits with positive gain, best gain: -inf\n",
      "[LightGBM] [Warning] No further splits with positive gain, best gain: -inf\n",
      "[LightGBM] [Warning] No further splits with positive gain, best gain: -inf\n",
      "[LightGBM] [Warning] No further splits with positive gain, best gain: -inf\n",
      "[LightGBM] [Warning] No further splits with positive gain, best gain: -inf\n"
     ]
    }
   ],
   "source": [
    "train_data = lgb.Dataset(X_train,label=Y_train['encoded_labels'])\n",
    "lgc = lgb.train(param, train_data, num_round)"
   ]
  },
  {
   "cell_type": "code",
   "execution_count": 14,
   "id": "8b1c1650",
   "metadata": {},
   "outputs": [],
   "source": [
    "lgc_y_pred_proba=lgc.predict(X_test,num_iteration=lgc.best_iteration)\n",
    "lgc_y_pred=np.argmax(lgc_y_pred_proba, axis=1)"
   ]
  },
  {
   "cell_type": "code",
   "execution_count": 15,
   "id": "6a17d2db",
   "metadata": {},
   "outputs": [
    {
     "data": {
      "image/png": "[encoded data removed]",
      "text/plain": [
       "<Figure size 640x480 with 2 Axes>"
      ]
     },
     "metadata": {},
     "output_type": "display_data"
    }
   ],
   "source": [
    "lgc_cm = confusion_matrix(Y_test['encoded_labels'], lgc_y_pred)\n",
    "\n",
    "cm_display = ConfusionMatrixDisplay(lgc_cm).plot()"
   ]
  },
  {
   "cell_type": "code",
   "execution_count": 16,
   "id": "0e31b47c",
   "metadata": {},
   "outputs": [
    {
     "data": {
      "image/png": "[encoded data removed]",
      "text/plain": [
       "<Figure size 640x480 with 2 Axes>"
      ]
     },
     "metadata": {},
     "output_type": "display_data"
    }
   ],
   "source": [
    "xgc_cm = confusion_matrix(Y_test['encoded_labels'], xgc_y_pred)\n",
    "\n",
    "cm_display = ConfusionMatrixDisplay(xgc_cm).plot()"
   ]
  },
  {
   "cell_type": "code",
   "execution_count": 17,
   "id": "63453be0",
   "metadata": {},
   "outputs": [
    {
     "data": {
      "image/png": "[encoded data removed]",
      "text/plain": [
       "<Figure size 640x480 with 2 Axes>"
      ]
     },
     "metadata": {},
     "output_type": "display_data"
    }
   ],
   "source": [
    "rfc_cm = confusion_matrix(Y_test['disease_type'], rfc_y_pred)\n",
    "\n",
    "cm_display = ConfusionMatrixDisplay(rfc_cm).plot()"
   ]
  },
  {
   "cell_type": "code",
   "execution_count": 18,
   "id": "d55481aa",
   "metadata": {},
   "outputs": [
    {
     "data": {
      "image/png": "[encoded data removed]",
      "text/plain": [
       "<Figure size 640x480 with 2 Axes>"
      ]
     },
     "metadata": {},
     "output_type": "display_data"
    }
   ],
   "source": [
    "cbc_cm = confusion_matrix(Y_test['encoded_labels'], cbc_y_pred)\n",
    "\n",
    "cm_display = ConfusionMatrixDisplay(cbc_cm).plot()"
   ]
  },
  {
   "cell_type": "code",
   "execution_count": 54,
   "id": "173ca08b",
   "metadata": {},
   "outputs": [],
   "source": [
    "all_algo = [lgc_cm,xgc_cm,rfc_cm,cbc_cm]\n",
    "algo_names= [\"LightGBM\",\"XGBoost\",\"Random Forest\",\"CatBoost\"]"
   ]
  },
  {
   "cell_type": "code",
   "execution_count": 96,
   "id": "70379fec",
   "metadata": {},
   "outputs": [
    {
     "name": "stdout",
     "output_type": "stream",
     "text": [
      "{0.9672764227642277: 'LightGBM', 0.993421052631579: 'XGBoost', 0.9573412698412699: 'Random Forest', 0.9333333333333333: 'CatBoost'}\n"
     ]
    }
   ],
   "source": [
    "compare_algo={}\n",
    "def specifity_and_sensivity(cm):\n",
    "    column_sum=0\n",
    "    spec_and_sens=0\n",
    "    for i in range(len(cm)):\n",
    "        for j in range(len(cm)):\n",
    "            column_sum+=cm[j][i]\n",
    "        spec_and_sens+=cm[i][i]/column_sum\n",
    "        column_sum=0\n",
    "    avg_spec_and_sens=spec_and_sens/4\n",
    "    return avg_spec_and_sens\n",
    "            \n",
    "\n",
    "for i in range(len(all_algo)):\n",
    "    avg = specifity_and_sensivity(all_algo[i])\n",
    "    compare_algo[avg]=algo_names[i]\n",
    "print(compare_algo)"
   ]
  },
  {
   "cell_type": "code",
   "execution_count": 95,
   "id": "223f258f",
   "metadata": {},
   "outputs": [
    {
     "data": {
      "text/plain": [
       "'XGBoost'"
      ]
     },
     "execution_count": 95,
     "metadata": {},
     "output_type": "execute_result"
    }
   ],
   "source": [
    "max_acc=0\n",
    "for k,v in compare_algo.items():\n",
    "    if k > max_acc:\n",
    "        max_acc=k\n",
    "best_tree = compare_algo[max_acc]\n",
    "best_tree"
   ]
  },
  {
   "cell_type": "code",
   "execution_count": null,
   "id": "7a5de32d",
   "metadata": {},
   "outputs": [],
   "source": []
  }
 ],
 "metadata": {
  "kernelspec": {
   "display_name": "Python 3 (ipykernel)",
   "language": "python",
   "name": "python3"
  },
  "language_info": {
   "codemirror_mode": {
    "name": "ipython",
    "version": 3
   },
   "file_extension": ".py",
   "mimetype": "text/x-python",
   "name": "python",
   "nbconvert_exporter": "python",
   "pygments_lexer": "ipython3",
   "version": "3.9.13"
  }
 },
 "nbformat": 4,
 "nbformat_minor": 5
}
